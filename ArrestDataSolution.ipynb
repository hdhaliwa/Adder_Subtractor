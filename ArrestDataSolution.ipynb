{
  "nbformat": 4,
  "nbformat_minor": 0,
  "metadata": {
    "colab": {
      "name": "ArrestDataSolution.ipynb",
      "provenance": [],
      "include_colab_link": true
    },
    "kernelspec": {
      "name": "python2",
      "display_name": "Python 2"
    }
  },
  "cells": [
    {
      "cell_type": "markdown",
      "metadata": {
        "id": "view-in-github",
        "colab_type": "text"
      },
      "source": [
        "<a href=\"https://colab.research.google.com/github/hdhaliwa/Adder_Subtractor/blob/master/ArrestDataSolution.ipynb\" target=\"_parent\"><img src=\"https://colab.research.google.com/assets/colab-badge.svg\" alt=\"Open In Colab\"/></a>"
      ]
    },
    {
      "cell_type": "code",
      "metadata": {
        "id": "Zvn6u6lwLKxu",
        "colab_type": "code",
        "colab": {}
      },
      "source": [
        "import pandas as pd"
      ],
      "execution_count": 0,
      "outputs": []
    },
    {
      "cell_type": "code",
      "metadata": {
        "id": "DA5M9EJ0LUB_",
        "colab_type": "code",
        "colab": {}
      },
      "source": [
        "ufo = pd.read_json('https://data.lacity.org/resource/yru6-6re4.json')"
      ],
      "execution_count": 0,
      "outputs": []
    },
    {
      "cell_type": "code",
      "metadata": {
        "id": "-M8ZVrrBLtLV",
        "colab_type": "code",
        "colab": {
          "base_uri": "https://localhost:8080/",
          "height": 479
        },
        "outputId": "761d399b-7c1a-4bef-b1d2-9934a5442ce3"
      },
      "source": [
        "ufo.head()"
      ],
      "execution_count": 3,
      "outputs": [
        {
          "output_type": "execute_result",
          "data": {
            "text/html": [
              "<div>\n",
              "<style scoped>\n",
              "    .dataframe tbody tr th:only-of-type {\n",
              "        vertical-align: middle;\n",
              "    }\n",
              "\n",
              "    .dataframe tbody tr th {\n",
              "        vertical-align: top;\n",
              "    }\n",
              "\n",
              "    .dataframe thead th {\n",
              "        text-align: right;\n",
              "    }\n",
              "</style>\n",
              "<table border=\"1\" class=\"dataframe\">\n",
              "  <thead>\n",
              "    <tr style=\"text-align: right;\">\n",
              "      <th></th>\n",
              "      <th>:@computed_region_2dna_qi2s</th>\n",
              "      <th>:@computed_region_k96s_3jcv</th>\n",
              "      <th>:@computed_region_kqwf_mjcx</th>\n",
              "      <th>:@computed_region_qz3q_ghft</th>\n",
              "      <th>:@computed_region_tatf_ua23</th>\n",
              "      <th>:@computed_region_ur2y_g4cx</th>\n",
              "      <th>age</th>\n",
              "      <th>area</th>\n",
              "      <th>area_desc</th>\n",
              "      <th>arst_date</th>\n",
              "      <th>arst_typ_cd</th>\n",
              "      <th>charge</th>\n",
              "      <th>chrg_desc</th>\n",
              "      <th>chrg_grp_cd</th>\n",
              "      <th>crsst</th>\n",
              "      <th>descent_cd</th>\n",
              "      <th>grp_description</th>\n",
              "      <th>location</th>\n",
              "      <th>location_1</th>\n",
              "      <th>rd</th>\n",
              "      <th>rpt_id</th>\n",
              "      <th>sex_cd</th>\n",
              "      <th>time</th>\n",
              "    </tr>\n",
              "  </thead>\n",
              "  <tbody>\n",
              "    <tr>\n",
              "      <th>0</th>\n",
              "      <td>57.0</td>\n",
              "      <td>427.0</td>\n",
              "      <td>8</td>\n",
              "      <td>23446.0</td>\n",
              "      <td>556.0</td>\n",
              "      <td>NaN</td>\n",
              "      <td>21</td>\n",
              "      <td>6</td>\n",
              "      <td>Hollywood</td>\n",
              "      <td>2019-10-26T00:00:00.000</td>\n",
              "      <td>M</td>\n",
              "      <td>653.23A1PC</td>\n",
              "      <td>SUPERVISOR OF PROSTITUTE</td>\n",
              "      <td>13.0</td>\n",
              "      <td>LEMON GROVE</td>\n",
              "      <td>B</td>\n",
              "      <td>Prostitution/Allied</td>\n",
              "      <td>WESTERN                      AV</td>\n",
              "      <td>{u'latitude': u'34.0998', u'human_address': u'...</td>\n",
              "      <td>647</td>\n",
              "      <td>5783352</td>\n",
              "      <td>F</td>\n",
              "      <td>210</td>\n",
              "    </tr>\n",
              "    <tr>\n",
              "      <th>1</th>\n",
              "      <td>16.0</td>\n",
              "      <td>925.0</td>\n",
              "      <td>10</td>\n",
              "      <td>23676.0</td>\n",
              "      <td>1062.0</td>\n",
              "      <td>10.0</td>\n",
              "      <td>54</td>\n",
              "      <td>14</td>\n",
              "      <td>Pacific</td>\n",
              "      <td>2019-10-26T00:00:00.000</td>\n",
              "      <td>M</td>\n",
              "      <td>71.02LAMC</td>\n",
              "      <td>HIRE VEH W/O LIC</td>\n",
              "      <td>24.0</td>\n",
              "      <td>MANCHESTER</td>\n",
              "      <td>O</td>\n",
              "      <td>Miscellaneous Other Violations</td>\n",
              "      <td>SEPULVEDA</td>\n",
              "      <td>{u'latitude': u'33.9733', u'human_address': u'...</td>\n",
              "      <td>1467</td>\n",
              "      <td>191422655</td>\n",
              "      <td>M</td>\n",
              "      <td>740</td>\n",
              "    </tr>\n",
              "    <tr>\n",
              "      <th>2</th>\n",
              "      <td>16.0</td>\n",
              "      <td>925.0</td>\n",
              "      <td>10</td>\n",
              "      <td>23676.0</td>\n",
              "      <td>1062.0</td>\n",
              "      <td>10.0</td>\n",
              "      <td>18</td>\n",
              "      <td>14</td>\n",
              "      <td>Pacific</td>\n",
              "      <td>2019-10-26T00:00:00.000</td>\n",
              "      <td>M</td>\n",
              "      <td>23152(A)VC</td>\n",
              "      <td>DRUNK DRIVING ALCOHOL/DRUGS</td>\n",
              "      <td>22.0</td>\n",
              "      <td>LA TIJERA                    BL</td>\n",
              "      <td>H</td>\n",
              "      <td>Driving Under Influence</td>\n",
              "      <td>SAN DIEGO                    FY</td>\n",
              "      <td>{u'latitude': u'33.9741', u'human_address': u'...</td>\n",
              "      <td>1467</td>\n",
              "      <td>5783306</td>\n",
              "      <td>M</td>\n",
              "      <td>51</td>\n",
              "    </tr>\n",
              "    <tr>\n",
              "      <th>3</th>\n",
              "      <td>76.0</td>\n",
              "      <td>693.0</td>\n",
              "      <td>13</td>\n",
              "      <td>23076.0</td>\n",
              "      <td>1227.0</td>\n",
              "      <td>34.0</td>\n",
              "      <td>34</td>\n",
              "      <td>1</td>\n",
              "      <td>Central</td>\n",
              "      <td>2019-10-26T00:00:00.000</td>\n",
              "      <td>M</td>\n",
              "      <td>23152(A)VC</td>\n",
              "      <td>DRUNK DRIVING ALCOHOL/DRUGS</td>\n",
              "      <td>22.0</td>\n",
              "      <td>MARATHON</td>\n",
              "      <td>W</td>\n",
              "      <td>Driving Under Influence</td>\n",
              "      <td>ARDMORE</td>\n",
              "      <td>{u'latitude': u'34.0388', u'human_address': u'...</td>\n",
              "      <td>191</td>\n",
              "      <td>5783361</td>\n",
              "      <td>M</td>\n",
              "      <td>232</td>\n",
              "    </tr>\n",
              "    <tr>\n",
              "      <th>4</th>\n",
              "      <td>82.0</td>\n",
              "      <td>350.0</td>\n",
              "      <td>7</td>\n",
              "      <td>24033.0</td>\n",
              "      <td>713.0</td>\n",
              "      <td>11.0</td>\n",
              "      <td>29</td>\n",
              "      <td>15</td>\n",
              "      <td>N Hollywood</td>\n",
              "      <td>2019-10-26T00:00:00.000</td>\n",
              "      <td>M</td>\n",
              "      <td>23152(A)VC</td>\n",
              "      <td>DRUNK DRIVING ALCOHOL/DRUGS</td>\n",
              "      <td>22.0</td>\n",
              "      <td>CAMROSE</td>\n",
              "      <td>W</td>\n",
              "      <td>Driving Under Influence</td>\n",
              "      <td>HIGHLAND</td>\n",
              "      <td>{u'latitude': u'34.1284', u'human_address': u'...</td>\n",
              "      <td>1599</td>\n",
              "      <td>5783397</td>\n",
              "      <td>F</td>\n",
              "      <td>335</td>\n",
              "    </tr>\n",
              "  </tbody>\n",
              "</table>\n",
              "</div>"
            ],
            "text/plain": [
              "   :@computed_region_2dna_qi2s  :@computed_region_k96s_3jcv  ...  sex_cd  time\n",
              "0                         57.0                        427.0  ...       F   210\n",
              "1                         16.0                        925.0  ...       M   740\n",
              "2                         16.0                        925.0  ...       M    51\n",
              "3                         76.0                        693.0  ...       M   232\n",
              "4                         82.0                        350.0  ...       F   335\n",
              "\n",
              "[5 rows x 23 columns]"
            ]
          },
          "metadata": {
            "tags": []
          },
          "execution_count": 3
        }
      ]
    },
    {
      "cell_type": "code",
      "metadata": {
        "id": "755mPSQIQS1b",
        "colab_type": "code",
        "colab": {
          "base_uri": "https://localhost:8080/",
          "height": 34
        },
        "outputId": "d27baaa7-a5f2-490d-8db7-b5ba2bf5c83c"
      },
      "source": [
        "ufo.arst_date.str.slice(-23,4).astype(int).equals(2018)"
      ],
      "execution_count": 35,
      "outputs": [
        {
          "output_type": "execute_result",
          "data": {
            "text/plain": [
              "False"
            ]
          },
          "metadata": {
            "tags": []
          },
          "execution_count": 35
        }
      ]
    }
  ]
}